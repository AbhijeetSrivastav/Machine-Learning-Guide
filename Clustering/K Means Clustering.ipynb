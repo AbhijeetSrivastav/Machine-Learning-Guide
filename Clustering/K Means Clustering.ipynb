{
 "cells": [
  {
   "cell_type": "markdown",
   "metadata": {},
   "source": [
    "## K Means Clustering"
   ]
  },
  {
   "cell_type": "markdown",
   "metadata": {},
   "source": [
    "### Clustering\n",
    "\n",
    "Clustering is the task of dividing the population or data points into a number of groups such that data points in the same groups are more similar to other data points in the same group than those in other groups. In simple words, the aim is to segregate groups with similar traits and assign them into clusters.\n",
    "\n",
    "### Types of Clustering\n",
    "\n",
    "Broadly speaking, clustering can be divided into two subgroups :\n",
    "\n",
    "1. Hard Clustering: In hard clustering, each data point either belongs to a cluster completely or not.\n",
    "\n",
    "2. Soft Clustering: In soft clustering, instead of putting each data point into a separate cluster, a probability or likelihood of that data point to be in those clusters is assigned. \n",
    "\n",
    "\n",
    "### Types of Clustering Algorithms\n",
    "\n",
    "Since the task of clustering is subjective, the means that can be used for achieving this goal are plenty. Every methodology follows a different set of rules for defining the ‘similarity’ among data points. In fact, there are more than 100 clustering algorithms known. But few of the algorithms are used popularly, let’s look at them in detail:\n",
    "\n",
    "1. Connectivity models: As the name suggests, these models are based on the notion that the data points closer in data space exhibit more similarity to each other than the data points lying farther away. These models can follow two approaches. In the first approach, they start with classifying all data points into separate clusters & then aggregating them as the distance decreases. In the second approach, all data points are classified as a single cluster and then partitioned as the distance increases. Also, the choice of distance function is subjective. These models are very easy to interpret but lacks scalability for handling big datasets. Examples of these models are hierarchical clustering algorithm and its variants.\n",
    "\n",
    "2. Centroid models: These are iterative clustering algorithms in which the notion of similarity is derived by the closeness of a data point to the centroid of the clusters. K-Means clustering algorithm is a popular algorithm that falls into this category. In these models, the no. of clusters required at the end have to be mentioned beforehand, which makes it important to have prior knowledge of the dataset. These models run iteratively to find the local optima.\n",
    "\n",
    "3. Distribution models: These clustering models are based on the notion of how probable is it that all data points in the cluster belong to the same distribution (For example: Normal, Gaussian). These models often suffer from overfitting. A popular example of these models is Expectation-maximization algorithm which uses multivariate normal distributions.\n",
    "\n",
    "4. Density Models: These models search the data space for areas of varied density of data points in the data space. It isolates various different density regions and assign the data points within these regions in the same cluster. Popular examples of density models are DBSCAN and OPTICS.\n",
    "\n",
    "        Note: We are going ot use the Centroid Model."
   ]
  },
  {
   "attachments": {},
   "cell_type": "markdown",
   "metadata": {},
   "source": [
    "### What does K Means Clustering do?\n",
    "\n",
    "![K Means](K Means.png)\n",
    "\n",
    "### Working of K Means Clustering\n",
    "\n",
    "K means is an iterative clustering algorithm that aims to find local maxima in each iteration. This algorithm works in these 5 steps :\n",
    "\n",
    "1. Choose the number k of clusters : k = 2\n",
    "2. Select at random k points, the centroids(not necessarily from dataset)\n",
    "3. Assign each data point to the closest centroid--that forms k clusters.\n",
    "4. Compute and place the new centroid of each cluster. \n",
    "5. Reassign each data point to the new closest centroid. If any reassignment took place, go to STEP 4, otherwise go to FIN.\n",
    "\n",
    "![First](1.png)\n",
    "![Second](2.png)\n",
    "![Third](3.png)\n",
    "![Fourth](4.png)\n",
    "![Fifth](5.png)\n",
    "![Fifth One](5.1.png)\n",
    "![Fifth Two](5.2.png)\n",
    "\n",
    "The final model will look like this\n",
    "![fin](fin.png)"
   ]
  },
  {
   "cell_type": "code",
   "execution_count": null,
   "metadata": {},
   "outputs": [],
   "source": []
  }
 ],
 "metadata": {
  "kernelspec": {
   "display_name": "Python 3",
   "language": "python",
   "name": "python3"
  },
  "language_info": {
   "codemirror_mode": {
    "name": "ipython",
    "version": 3
   },
   "file_extension": ".py",
   "mimetype": "text/x-python",
   "name": "python",
   "nbconvert_exporter": "python",
   "pygments_lexer": "ipython3",
   "version": "3.6.5"
  }
 },
 "nbformat": 4,
 "nbformat_minor": 2
}
