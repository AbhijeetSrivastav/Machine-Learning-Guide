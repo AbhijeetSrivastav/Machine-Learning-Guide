{
 "cells": [
  {
   "cell_type": "markdown",
   "metadata": {},
   "source": [
    "## Polynomial Linear Regression"
   ]
  },
  {
   "cell_type": "markdown",
   "metadata": {},
   "source": [
    "### Introduction\n",
    "\n",
    "Polynomial Regression is a regression algorithm that models the relationship between a dependent(y) and independent variable(x) as nth degree polynomial.\n",
    "\n",
    "It is also called the special case of Multiple Linear Regression in ML. Because we add some polynomial terms to the Multiple Linear regression equation to convert it into Polynomial Regression.\n",
    "\n",
    "It is a linear model with some modification in order to increase the accuracy.\n",
    "\n",
    "The dataset used in Polynomial regression for training is of non-linear nature.\n",
    "\n",
    "It makes use of a linear regression model to fit the complicated and non-linear functions and datasets.\n",
    "\n",
    "In Polynomial regression, the original features are converted into Polynomial features of required degree (2,3,..,n) and then modeled using a linear model.\n",
    "\n",
    "The mathematical equation of polynomial linear regression is:\n",
    "\n",
    "$$ y = b_{0} + b_{1}*x_{1} + b_{2}*x_{1}^2 + b_{3}*x_{1}^3 + .... + b_{n}*x_{1}^n $$ \n",
    "\n",
    "   1. y is the predicted value of the dependent variable (y) for any given value of the independent variable (x1).\n",
    "   2. $b_{0}$ is the intercept, the predicted value of y when the x1 is 0.\n",
    "   3. $b_{1}$ is the regression coefficient – how much we expect y to change as x1 increases.\n",
    "   4. x1 is the independent variable ( the variable we expect is influencing y).\n",
    "   5. e is the error of the estimate, or how much variation there is in our estimate of the regression coefficient.\n",
    "   \n",
    "\n",
    "### Need for Polynomial Linear Regression\n",
    "\n",
    "If we apply a linear model on a linear dataset, then it provides us a good result as we have seen in Simple Linear Regression, but if we apply the same model without any modification on a non-linear dataset, then it will produce a drastic output. Due to which loss function will increase, the error rate will be high, and accuracy will be decreased.\n",
    "\n",
    "So for such cases, where data points are arranged in a non-linear fashion, we need the Polynomial Regression model. We can understand it in a better way using the below comparison diagram of the linear dataset and non-linear dataset.\n",
    "\n",
    "![Polynomial Linear Regression vs Linear Regression](poly.png \"Linear Regression vs Polynomial Linear Regeression\")\n",
    "\n",
    "In the above image, we have taken a dataset which is arranged non-linearly. So if we try to cover it with a linear model, then we can clearly see that it hardly covers any data point. On the other hand, a curve is suitable to cover most of the data points, which is of the Polynomial model.\n",
    "\n",
    "    Hence, if the datasets are arranged in a non-linear fashion, then we should use the Polynomial Regression model instead of Simple Linear Regression.\n"
   ]
  },
  {
   "cell_type": "markdown",
   "metadata": {},
   "source": [
    "## Importing the Libraries"
   ]
  },
  {
   "cell_type": "code",
   "execution_count": 1,
   "metadata": {},
   "outputs": [],
   "source": [
    "import numpy as np\n",
    "import matplotlib.pyplot as plt\n",
    "import pandas as pd"
   ]
  },
  {
   "cell_type": "markdown",
   "metadata": {},
   "source": [
    "## Importing the Dataset"
   ]
  },
  {
   "cell_type": "code",
   "execution_count": null,
   "metadata": {},
   "outputs": [],
   "source": [
    "dataset = pd.read_csv() "
   ]
  }
 ],
 "metadata": {
  "kernelspec": {
   "display_name": "Python 3",
   "language": "python",
   "name": "python3"
  },
  "language_info": {
   "codemirror_mode": {
    "name": "ipython",
    "version": 3
   },
   "file_extension": ".py",
   "mimetype": "text/x-python",
   "name": "python",
   "nbconvert_exporter": "python",
   "pygments_lexer": "ipython3",
   "version": "3.6.5"
  }
 },
 "nbformat": 4,
 "nbformat_minor": 2
}
