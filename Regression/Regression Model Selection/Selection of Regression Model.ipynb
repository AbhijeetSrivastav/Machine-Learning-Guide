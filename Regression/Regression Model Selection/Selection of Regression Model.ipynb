{
 "cells": [
  {
   "cell_type": "markdown",
   "metadata": {},
   "source": [
    "# Selection of Regression Model"
   ]
  },
  {
   "cell_type": "markdown",
   "metadata": {},
   "source": [
    "Model specification is the process of determining which independent variables to include and exclude from a regression equation. How do you choose the best regression model?\n",
    "\n",
    "The need for model selection often begins when a researcher wants to mathematically define the relationship between independent variables and the dependent variable. Typically, investigators measure many variables but include only some in the model. \n",
    "\n",
    "Analysts try to exclude independent variables that are not related and include only those that have an actual relationship with the dependent variable. During the specification process, the analysts typically try different combinations of variables and various forms of the model. \n",
    "\n",
    "For example, they can try different terms that explain interactions between variables and curvature in the data.\n",
    "\n",
    "The analysts need to reach a Goldilocks balance by including the correct number of independent variables in the regression equation.\n",
    "\n",
    "    Too few: Underspecified models tend to be biased.\n",
    "    Too many: Overspecified models tend to be less precise.\n",
    "    Just right: Models with the correct terms are not biased and are the most precise.\n",
    "\n",
    "To avoid biased results, your regression equation should contain any independent variables that you are specifically testing as part of the study plus other variables that affect the dependent variable.\n",
    "\n",
    "### Statistical Methods for Model Specification\n",
    "\n",
    "You can use statistical assessments during the model specification process. Various metrics and algorithms can help you determine which independent variables to include in your regression equation. I review some standard approaches to model selection.\n",
    "\n",
    "### Adjusted R-squared and Predicted R-squared: \n",
    "\n",
    "Typically, you want to select models that have larger adjusted and predicted R-squared values. These statistics can help you avoid the fundamental problem with regular R-squared—it always increases when you add an independent variable. This property tempts you into specifying a model that is too complex, which can produce misleading results.\n",
    "\n",
    "![R Squared ](rsqrbase.png)\n",
    "![R Squared ](rsqr.png)\n",
    "\n",
    "Adjusted R-squared increases only when a new variable improves the model by more than chance. Low-quality variables can cause it to decrease.\n",
    "\n",
    "![Adjacent R Squared ](adjrsqr.png)\n",
    "\n",
    "\n",
    "Predicted R-squared is a cross-validation method that can also decrease. Cross-validation partitions your data to determine whether the model is generalizable outside of your dataset.\n",
    "\n",
    "In short closer the value of R-squared or r score to 1 better the model.\n",
    "\n",
    "#### P-values for the independent variables:\n",
    "\n",
    "In regression, p-values less than the significance level indicate that the term is statistically significant. “Reducing the model” is the process of including all candidate variables in the model, and then repeatedly removing the single term with the highest non-significant p-value until your model contains only significant terms.\n",
    "\n",
    "#### Stepwise regression and Best subsets regression: \n",
    "\n",
    "These two automated model selection procedures are algorithms that pick the variables to include in your regression equation. These automated methods can be helpful when you have many independent variables, and you need some help in the investigative stages of the variable selection process. These procedures can provide the Mallows’ Cp statistic, which helps you balance the tradeoff between precision and bias.\n",
    "\n",
    "\n",
    "### Pros and Cons of Regression Models\n",
    "\n",
    "![Pros and Cons of Regression Models](Regression Model Pros and Cons.png)\n",
    "\n",
    "\n",
    "\n",
    "\n",
    "\n",
    "    Note: In our evaluation of regression model we are going to use the R-squared method.\n"
   ]
  }
 ],
 "metadata": {
  "kernelspec": {
   "display_name": "Python 3",
   "language": "python",
   "name": "python3"
  },
  "language_info": {
   "codemirror_mode": {
    "name": "ipython",
    "version": 3
   },
   "file_extension": ".py",
   "mimetype": "text/x-python",
   "name": "python",
   "nbconvert_exporter": "python",
   "pygments_lexer": "ipython3",
   "version": "3.6.5"
  }
 },
 "nbformat": 4,
 "nbformat_minor": 2
}
