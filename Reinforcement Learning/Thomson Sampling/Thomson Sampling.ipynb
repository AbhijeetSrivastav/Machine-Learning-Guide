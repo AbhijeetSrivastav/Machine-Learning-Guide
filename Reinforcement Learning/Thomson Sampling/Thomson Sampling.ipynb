{
 "cells": [
  {
   "cell_type": "markdown",
   "metadata": {},
   "source": [
    "# Upper Confidence Bound"
   ]
  },
  {
   "cell_type": "markdown",
   "metadata": {},
   "source": [
    "### Introduction\n",
    "\n",
    "In Reinforcement learning, the agent or decision-maker generates its training data by interacting with the world. The agent must learn the consequences of its actions through trial and error, rather than being explicitly told the correct action\n",
    "\n",
    "### Multi-Armed Bandit Problem\n",
    "\n",
    "In Reinforcement Learning, we use Multi-Armed Bandit Problem to formalize the notion of decision-making under uncertainty using k-armed bandits. A decision-maker or agent is present in Multi-Armed Bandit Problem to choose between k-different actions and receives a reward based on the action it chooses. Bandit problem is used to describe fundamental concepts in reinforcement learning, such as rewards, timesteps, and values.\n",
    "\n",
    "We will try to understand UCB as simple as possible. Consider there are 5 bandits or slot machines namely B1, B2, B3, B4 and B5.\n",
    "\n",
    "Given the 5 machines, using UCB we are going to devise a sequence of playing the machines in a way to maximize the yield or rewards from the machines.\n",
    "\n",
    "Given below are the intuitive steps behind UCB for maximizing the rewards in a MABP:\n",
    "\n",
    "Step 1: Each machine is assumed to have a uniform Confidence Interval and a success distribution. This Confidence Interval is a margin of success rate distributions which is the most certain to consist of the actual success rate distribution of each machine which we are unaware of in the beginning.\n",
    "\n",
    "Step 2: A machine is randomly chosen to play, as initially, they have all the same confidence Intervals.\n",
    "\n",
    "Step 3: Based on whether the machine gave a reward or not, the Confidence Interval shifts either towards or away from the actual success distribution and the also converges or shrinks as it has been explored thus resulting in the Upper bound value of the confidence Interval to also be reduced.\n",
    "\n",
    "Step 4: Based on the current Upper Confidence bounds of each of the machines, the one with the highest is chosen to explore in the next round.\n",
    "\n",
    "Step 5: Steps 3 and 4 are continued until there are sufficient observations to determine the upper confidence bound of each machine. The one with the highest upper confidence bound is the machine with the highest success rate.\n",
    "\n",
    "### UCB Algorithm\n",
    "\n",
    "![UCB ALGORITHM](ucbalgo.png)"
   ]
  },
  {
   "cell_type": "markdown",
   "metadata": {},
   "source": [
    "## Importing the Libraries"
   ]
  },
  {
   "cell_type": "code",
   "execution_count": 19,
   "metadata": {},
   "outputs": [],
   "source": [
    "import pandas as pd\n",
    "import matplotlib.pyplot as plt\n",
    "import numpy as np"
   ]
  },
  {
   "cell_type": "markdown",
   "metadata": {},
   "source": [
    "## Importing the Dataset"
   ]
  },
  {
   "cell_type": "code",
   "execution_count": 20,
   "metadata": {},
   "outputs": [],
   "source": [
    "dataset = pd.read_csv('Ads_CTR_Optimisation.csv')"
   ]
  },
  {
   "cell_type": "code",
   "execution_count": 21,
   "metadata": {},
   "outputs": [
    {
     "name": "stdout",
     "output_type": "stream",
     "text": [
      "      Ad 1  Ad 2  Ad 3  Ad 4  Ad 5  Ad 6  Ad 7  Ad 8  Ad 9  Ad 10\n",
      "0        1     0     0     0     1     0     0     0     1      0\n",
      "1        0     0     0     0     0     0     0     0     1      0\n",
      "2        0     0     0     0     0     0     0     0     0      0\n",
      "3        0     1     0     0     0     0     0     1     0      0\n",
      "4        0     0     0     0     0     0     0     0     0      0\n",
      "5        1     1     0     0     0     0     0     0     0      0\n",
      "6        0     0     0     1     0     0     0     0     0      0\n",
      "7        1     1     0     0     1     0     0     0     0      0\n",
      "8        0     0     0     0     0     0     0     0     0      0\n",
      "9        0     0     1     0     0     0     0     0     0      0\n",
      "10       0     0     0     0     0     0     0     0     0      0\n",
      "11       0     0     0     0     0     0     0     0     0      0\n",
      "12       0     0     0     1     0     0     0     0     0      0\n",
      "13       0     0     0     0     0     0     0     0     1      0\n",
      "14       0     0     0     0     0     0     0     1     0      0\n",
      "15       0     0     0     0     1     0     0     1     0      0\n",
      "16       0     0     0     0     0     0     0     0     0      0\n",
      "17       0     0     0     0     0     0     0     0     0      0\n",
      "18       0     0     0     0     0     0     0     1     0      0\n",
      "19       0     0     0     0     0     0     0     0     1      0\n",
      "20       0     1     0     0     0     0     0     1     0      0\n",
      "21       0     0     0     0     1     0     0     0     0      1\n",
      "22       0     0     0     0     0     0     0     0     0      0\n",
      "23       0     0     0     0     0     0     0     1     1      0\n",
      "24       0     0     0     0     1     0     1     1     0      0\n",
      "25       0     0     0     0     0     0     0     0     0      0\n",
      "26       0     1     0     0     1     0     0     1     0      0\n",
      "27       0     1     0     1     0     0     0     0     0      0\n",
      "28       0     0     0     0     0     0     0     0     0      0\n",
      "29       0     0     0     0     1     0     0     1     1      0\n",
      "...    ...   ...   ...   ...   ...   ...   ...   ...   ...    ...\n",
      "9970     0     0     0     0     0     0     0     0     0      0\n",
      "9971     0     0     0     0     0     0     0     1     0      0\n",
      "9972     0     0     0     0     0     0     0     0     0      0\n",
      "9973     0     0     0     0     1     0     0     0     0      0\n",
      "9974     0     0     0     0     0     0     0     1     1      0\n",
      "9975     0     0     0     0     1     0     1     0     1      0\n",
      "9976     0     0     0     0     1     0     0     1     0      0\n",
      "9977     0     1     0     0     1     0     1     0     0      0\n",
      "9978     0     0     0     0     1     0     0     0     0      0\n",
      "9979     0     0     1     0     0     0     1     0     0      0\n",
      "9980     1     1     0     1     0     0     0     0     0      0\n",
      "9981     0     0     0     0     0     0     0     0     0      0\n",
      "9982     0     1     0     0     0     0     0     0     0      0\n",
      "9983     0     0     0     0     1     0     0     1     1      0\n",
      "9984     0     0     0     0     1     0     0     0     0      0\n",
      "9985     0     0     0     0     0     0     0     1     0      0\n",
      "9986     0     0     0     0     1     0     0     0     0      0\n",
      "9987     0     0     0     0     1     0     0     0     0      0\n",
      "9988     1     0     0     0     1     0     0     0     0      0\n",
      "9989     0     0     0     0     0     0     0     0     0      0\n",
      "9990     0     0     0     1     0     0     0     0     0      0\n",
      "9991     0     1     0     1     1     0     1     0     0      0\n",
      "9992     0     0     0     1     0     0     1     0     0      0\n",
      "9993     0     0     0     0     1     0     0     0     1      0\n",
      "9994     0     0     1     0     0     0     0     0     1      0\n",
      "9995     0     0     1     0     0     0     0     1     0      0\n",
      "9996     0     0     0     0     0     0     0     0     0      0\n",
      "9997     0     0     0     0     0     0     0     0     0      0\n",
      "9998     1     0     0     0     0     0     0     1     0      0\n",
      "9999     0     1     0     0     0     0     0     0     0      0\n",
      "\n",
      "[10000 rows x 10 columns]\n"
     ]
    }
   ],
   "source": [
    "print(dataset)"
   ]
  },
  {
   "cell_type": "markdown",
   "metadata": {},
   "source": [
    "## Implementing UCB"
   ]
  },
  {
   "cell_type": "markdown",
   "metadata": {},
   "source": [
    "First of all we declare the initial variables as follows:\n",
    "\n",
    "    N = total number of users or obseervations(no. of rows)\n",
    "\n",
    "    d = total number of adds(no. of columns)\n",
    "\n",
    "    ads_selected = list of all the ads selected for all users or observation while iterating for all users\n",
    "\n",
    "    number_of_selection($N_{i}(n)$) = list containg ads selected for a specific user(1 if ad selected else 0)\n",
    "\n",
    "    sum_of_rewards($R_{i}(n)$) = list containg reward for specific user based on ad selected by him\n",
    "\n",
    "    total_reward = total reward of ad after being selected for all users\n",
    "\n",
    "\n",
    "\n",
    "\n",
    "Now we iterate through all the users(rows) via iterator n and at each iteration we set the ad to first ad and max_upper_bound at first ad to zero.\n",
    "\n",
    "\n",
    "Now for each user(row) we iterate through ads(columns) via iterator i and for each iteration if the ad is selected then we do this:\n",
    "                            \n",
    "      1. calculate the average reward upto that ad for ith user according to algorithm (STEP 2 OF ALGO)\n",
    "      2. calculate delta_i upto that ad for ith user according to algorithm (STEP 2 OF ALGO)\n",
    "      3. calculate upper bound upto that ad for ith user according to algorithm (STEP 3 OF ALGO)\n",
    "      \n",
    "\n",
    "If the add not selected(else case) then we do:\n",
    "          \n",
    "     we compulsorly select the add by specifying the upper_bound for such add too high, clost to infinity value which is\n",
    "     1e400\n",
    "       \n",
    "\n",
    "And in last if condition:\n",
    "    \n",
    "    we update the max_upper_bound after calculating the upper_bound if the add selected and if not and also select that\n",
    "    ith ad by changing the ad index to i. (STEP 3 OF ALGO) \n",
    "    \n",
    "\n",
    "After calculating the upper bound of each ad selected or not selected by each user now we update our list of:\n",
    "    \n",
    "    ads_selected with the ad which was selected i.e ad at index ad\n",
    "    \n",
    "    number_of_selections are updated with 1 to indicate that particular ad was selected\n",
    "    \n",
    "    now reward according to datasest or real data for that particular user and particular selected ad is stored \n",
    "    in reward variable\n",
    "    \n",
    "    now sum_of_rewards is updated with new reward value added to it\n",
    "    \n",
    "    at last total_reward is calcualted with new reward value added to it\n",
    "      "
   ]
  },
  {
   "cell_type": "code",
   "execution_count": 22,
   "metadata": {},
   "outputs": [],
   "source": [
    "import math\n",
    "\n",
    "N = 10000\n",
    "d = 10\n",
    "ads_selected = []\n",
    "numbers_of_selections = [0] * d\n",
    "sums_of_rewards = [0] * d\n",
    "total_reward = 0\n",
    "\n",
    "for n in range(0, N):\n",
    "    ad = 0\n",
    "    max_upper_bound = 0\n",
    "\n",
    "    for i in range(0, d):\n",
    "        if numbers_of_selections[i] > 0:\n",
    "            average_reward = sums_of_rewards[i] / numbers_of_selections[i]\n",
    "            delta_i = math.sqrt(3/2 * math.log(n + 1) / numbers_of_selections[i])\n",
    "            upper_bound = average_reward + delta_i\n",
    "        else:\n",
    "            upper_bound = 1e400\n",
    "        if upper_bound > max_upper_bound:\n",
    "            max_upper_bound = upper_bound\n",
    "            ad = i\n",
    "    ads_selected.append(ad)\n",
    "    numbers_of_selections[ad] = numbers_of_selections[ad] + 1\n",
    "    reward = dataset.values[n, ad]\n",
    "    sums_of_rewards[ad] = sums_of_rewards[ad] + reward\n",
    "    total_reward = total_reward + reward"
   ]
  },
  {
   "cell_type": "markdown",
   "metadata": {},
   "source": [
    "## Visualizing the results"
   ]
  },
  {
   "cell_type": "code",
   "execution_count": 23,
   "metadata": {},
   "outputs": [
    {
     "data": {
      "image/png": "[encoded data removed]",
      "text/plain": [
       "<Figure size 432x288 with 1 Axes>"
      ]
     },
     "metadata": {},
     "output_type": "display_data"
    }
   ],
   "source": [
    "plt.hist(ads_selected)\n",
    "plt.title('Histogram of Ad selection')\n",
    "plt.xlabel('Ads')\n",
    "plt.ylabel('Number of time each ad was selected')\n",
    "plt.show()"
   ]
  },
  {
   "cell_type": "markdown",
   "metadata": {},
   "source": [
    "The optimal number of rounds needed to find the corect ad we can try playing with value of N. \n",
    "\n",
    "After playing around we found that for this particular case UCB was able to find correct add from 500 value of N thus we can set N to that and this reduces looping from 10000 to 500 and saves lot of computation!"
   ]
  }
 ],
 "metadata": {
  "kernelspec": {
   "display_name": "Python 3",
   "language": "python",
   "name": "python3"
  },
  "language_info": {
   "codemirror_mode": {
    "name": "ipython",
    "version": 3
   },
   "file_extension": ".py",
   "mimetype": "text/x-python",
   "name": "python",
   "nbconvert_exporter": "python",
   "pygments_lexer": "ipython3",
   "version": "3.6.5"
  }
 },
 "nbformat": 4,
 "nbformat_minor": 2
}
