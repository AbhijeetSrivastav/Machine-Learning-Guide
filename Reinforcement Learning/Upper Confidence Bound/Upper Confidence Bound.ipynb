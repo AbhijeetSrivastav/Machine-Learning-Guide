{
 "cells": [
  {
   "cell_type": "markdown",
   "metadata": {},
   "source": [
    "# Upper Confidence Bound"
   ]
  },
  {
   "cell_type": "markdown",
   "metadata": {},
   "source": [
    "### Introduction"
   ]
  },
  {
   "cell_type": "markdown",
   "metadata": {},
   "source": [
    "## Importing the Libraries"
   ]
  },
  {
   "cell_type": "code",
   "execution_count": 2,
   "metadata": {},
   "outputs": [],
   "source": [
    "import pandas as pd\n",
    "import matplotlib.pyplot as plt\n",
    "import numpy as np"
   ]
  },
  {
   "cell_type": "markdown",
   "metadata": {},
   "source": [
    "## Importing the Dataset"
   ]
  },
  {
   "cell_type": "code",
   "execution_count": 3,
   "metadata": {},
   "outputs": [],
   "source": [
    "dataset = pd.read_csv('Ads_CTR_Optimisation.csv')"
   ]
  },
  {
   "cell_type": "code",
   "execution_count": 4,
   "metadata": {},
   "outputs": [
    {
     "name": "stdout",
     "output_type": "stream",
     "text": [
      "      Ad 1  Ad 2  Ad 3  Ad 4  Ad 5  Ad 6  Ad 7  Ad 8  Ad 9  Ad 10\n",
      "0        1     0     0     0     1     0     0     0     1      0\n",
      "1        0     0     0     0     0     0     0     0     1      0\n",
      "2        0     0     0     0     0     0     0     0     0      0\n",
      "3        0     1     0     0     0     0     0     1     0      0\n",
      "4        0     0     0     0     0     0     0     0     0      0\n",
      "5        1     1     0     0     0     0     0     0     0      0\n",
      "6        0     0     0     1     0     0     0     0     0      0\n",
      "7        1     1     0     0     1     0     0     0     0      0\n",
      "8        0     0     0     0     0     0     0     0     0      0\n",
      "9        0     0     1     0     0     0     0     0     0      0\n",
      "10       0     0     0     0     0     0     0     0     0      0\n",
      "11       0     0     0     0     0     0     0     0     0      0\n",
      "12       0     0     0     1     0     0     0     0     0      0\n",
      "13       0     0     0     0     0     0     0     0     1      0\n",
      "14       0     0     0     0     0     0     0     1     0      0\n",
      "15       0     0     0     0     1     0     0     1     0      0\n",
      "16       0     0     0     0     0     0     0     0     0      0\n",
      "17       0     0     0     0     0     0     0     0     0      0\n",
      "18       0     0     0     0     0     0     0     1     0      0\n",
      "19       0     0     0     0     0     0     0     0     1      0\n",
      "20       0     1     0     0     0     0     0     1     0      0\n",
      "21       0     0     0     0     1     0     0     0     0      1\n",
      "22       0     0     0     0     0     0     0     0     0      0\n",
      "23       0     0     0     0     0     0     0     1     1      0\n",
      "24       0     0     0     0     1     0     1     1     0      0\n",
      "25       0     0     0     0     0     0     0     0     0      0\n",
      "26       0     1     0     0     1     0     0     1     0      0\n",
      "27       0     1     0     1     0     0     0     0     0      0\n",
      "28       0     0     0     0     0     0     0     0     0      0\n",
      "29       0     0     0     0     1     0     0     1     1      0\n",
      "...    ...   ...   ...   ...   ...   ...   ...   ...   ...    ...\n",
      "9970     0     0     0     0     0     0     0     0     0      0\n",
      "9971     0     0     0     0     0     0     0     1     0      0\n",
      "9972     0     0     0     0     0     0     0     0     0      0\n",
      "9973     0     0     0     0     1     0     0     0     0      0\n",
      "9974     0     0     0     0     0     0     0     1     1      0\n",
      "9975     0     0     0     0     1     0     1     0     1      0\n",
      "9976     0     0     0     0     1     0     0     1     0      0\n",
      "9977     0     1     0     0     1     0     1     0     0      0\n",
      "9978     0     0     0     0     1     0     0     0     0      0\n",
      "9979     0     0     1     0     0     0     1     0     0      0\n",
      "9980     1     1     0     1     0     0     0     0     0      0\n",
      "9981     0     0     0     0     0     0     0     0     0      0\n",
      "9982     0     1     0     0     0     0     0     0     0      0\n",
      "9983     0     0     0     0     1     0     0     1     1      0\n",
      "9984     0     0     0     0     1     0     0     0     0      0\n",
      "9985     0     0     0     0     0     0     0     1     0      0\n",
      "9986     0     0     0     0     1     0     0     0     0      0\n",
      "9987     0     0     0     0     1     0     0     0     0      0\n",
      "9988     1     0     0     0     1     0     0     0     0      0\n",
      "9989     0     0     0     0     0     0     0     0     0      0\n",
      "9990     0     0     0     1     0     0     0     0     0      0\n",
      "9991     0     1     0     1     1     0     1     0     0      0\n",
      "9992     0     0     0     1     0     0     1     0     0      0\n",
      "9993     0     0     0     0     1     0     0     0     1      0\n",
      "9994     0     0     1     0     0     0     0     0     1      0\n",
      "9995     0     0     1     0     0     0     0     1     0      0\n",
      "9996     0     0     0     0     0     0     0     0     0      0\n",
      "9997     0     0     0     0     0     0     0     0     0      0\n",
      "9998     1     0     0     0     0     0     0     1     0      0\n",
      "9999     0     1     0     0     0     0     0     0     0      0\n",
      "\n",
      "[10000 rows x 10 columns]\n"
     ]
    }
   ],
   "source": [
    "print(dataset)"
   ]
  },
  {
   "cell_type": "markdown",
   "metadata": {},
   "source": [
    "## Implementing UCB"
   ]
  },
  {
   "cell_type": "markdown",
   "metadata": {},
   "source": [
    "Here,\n",
    "\n",
    "N = total number of users or obseervations(no. of rows)\n",
    "\n",
    "d = total number of adds(no. of columns)\n",
    "\n",
    "ads_selected = list of all the ads selected for all users or observation while iterating for all users\n",
    "\n",
    "number_of_selection($N_{i}(n)$) = list containg ads selected for a specific user(1 if ad selected else 0)\n",
    "\n",
    "sum_of_rewards($R_{i}(n)$ = list containg reward for specific user based on ad selected by him\n",
    "\n",
    "total_reward = total reward of ad after being selected for all users"
   ]
  },
  {
   "cell_type": "code",
   "execution_count": null,
   "metadata": {},
   "outputs": [],
   "source": [
    "N = 10000\n",
    "d = 10\n",
    "ads_Selected = []\n",
    "number_of_selections = [0] * 10\n",
    "sum_of_rewards = [0] * 10\n",
    "total_reward = 0 \n"
   ]
  }
 ],
 "metadata": {
  "kernelspec": {
   "display_name": "Python 3",
   "language": "python",
   "name": "python3"
  },
  "language_info": {
   "codemirror_mode": {
    "name": "ipython",
    "version": 3
   },
   "file_extension": ".py",
   "mimetype": "text/x-python",
   "name": "python",
   "nbconvert_exporter": "python",
   "pygments_lexer": "ipython3",
   "version": "3.6.5"
  }
 },
 "nbformat": 4,
 "nbformat_minor": 2
}
